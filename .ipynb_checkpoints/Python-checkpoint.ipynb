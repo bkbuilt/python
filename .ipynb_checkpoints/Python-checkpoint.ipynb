{
 "cells": [
  {
   "cell_type": "code",
   "execution_count": 60,
   "metadata": {},
   "outputs": [],
   "source": [
    "import sys\n",
    "sys.path.append(\"../python/Python.ipynb\")"
   ]
  },
  {
   "cell_type": "code",
   "execution_count": 63,
   "metadata": {},
   "outputs": [
    {
     "name": "stdout",
     "output_type": "stream",
     "text": [
      "The autoreload extension is already loaded. To reload it, use:\n",
      "  %reload_ext autoreload\n"
     ]
    }
   ],
   "source": [
    "%reload_ext autoreload\n",
    "%load_ext autoreload\n",
    "%autoreload 2"
   ]
  },
  {
   "cell_type": "code",
   "execution_count": 46,
   "metadata": {},
   "outputs": [],
   "source": [
    "#Functions\n",
    "#def functionName( arg1, arg2,….):\n",
    "#   …….\n",
    "   # Function_body\n",
    "#   …….."
   ]
  },
  {
   "cell_type": "code",
   "execution_count": 47,
   "metadata": {},
   "outputs": [],
   "source": [
    "def sum(num0, num1):\n",
    "    return (num0 + num1)"
   ]
  },
  {
   "cell_type": "code",
   "execution_count": 48,
   "metadata": {},
   "outputs": [
    {
     "data": {
      "text/plain": [
       "155"
      ]
     },
     "execution_count": 48,
     "metadata": {},
     "output_type": "execute_result"
    }
   ],
   "source": [
    "sum(143, 12) #matches number of parameters in function declared above"
   ]
  },
  {
   "cell_type": "code",
   "execution_count": 49,
   "metadata": {},
   "outputs": [],
   "source": [
    "#what happens if we exceed parameters?\n",
    "#input a sum of more than 2 parameters below"
   ]
  },
  {
   "cell_type": "code",
   "execution_count": null,
   "metadata": {},
   "outputs": [],
   "source": []
  },
  {
   "cell_type": "code",
   "execution_count": 50,
   "metadata": {},
   "outputs": [],
   "source": [
    "#Methods\n",
    "#class ClassName:\n",
    " #  def method_name():\n",
    "  #    …………..\n",
    "      # Method_body\n",
    "   #   ………………"
   ]
  },
  {
   "cell_type": "code",
   "execution_count": 1,
   "metadata": {},
   "outputs": [
    {
     "name": "stdout",
     "output_type": "stream",
     "text": [
      "I am Brent\n"
     ]
    }
   ],
   "source": [
    "class Person(object):\n",
    "    def methodical_method(self):\n",
    "        print(\"I am Brent\")\n",
    "Brent = Person() #i am the object of the methodical_method in class Person\n",
    "Brent.methodical_method()"
   ]
  },
  {
   "cell_type": "code",
   "execution_count": 52,
   "metadata": {},
   "outputs": [],
   "source": [
    "# Methods vs Functions\n",
    "    # Methods are called on an object\n",
    "        # Call methodical_method on object \"Brent\"\n",
    "        # Method can access data within object because it is called on an object\n",
    "    # Function can not alter the objects state like a method can; however the function operates on it.. like summation\n",
    "        # Function is called without any object\n",
    "        \n",
    "# \"Method is function that belongs to object\""
   ]
  },
  {
   "cell_type": "code",
   "execution_count": null,
   "metadata": {},
   "outputs": [],
   "source": []
  },
  {
   "cell_type": "code",
   "execution_count": 53,
   "metadata": {},
   "outputs": [],
   "source": [
    "# Function Decorators\n",
    "    # In Python, we can define a function inside another function.\n",
    "    # In Python, a function can be passed as parameter to another function (a function can also return another function)."
   ]
  },
  {
   "cell_type": "code",
   "execution_count": null,
   "metadata": {},
   "outputs": [],
   "source": []
  },
  {
   "cell_type": "code",
   "execution_count": 54,
   "metadata": {},
   "outputs": [
    {
     "name": "stdout",
     "output_type": "stream",
     "text": [
      "Base 2 Conversion: 18\n",
      "Float Conversion: 10010.0\n"
     ]
    }
   ],
   "source": [
    "# Type Conversion ... Important for Data Science\n",
    "    # Python defines type conversion functions to directly convert one data type to another which is useful \n",
    "    # in day to day and competitive programming. This article is aimed at providing \n",
    "    # the information about certain conversion functions.\n",
    "\n",
    "    # int(a,base) : This function converts any data type to integer. ‘Base’ specifies the base in which string is if data type is string.\n",
    "\n",
    "    # float() : This function is used to convert any data type to a floating point number\n",
    "    \n",
    "bri = \"10010\"\n",
    "\n",
    "brent = int(bri,2) # prints string w/ base 2 conversion\n",
    "print(\"Base 2 Conversion: \", end=\"\")\n",
    "print(brent)\n",
    "\n",
    "brian = float(bri)\n",
    "print(\"Float Conversion: \", end=\"\")\n",
    "print(brian)"
   ]
  },
  {
   "cell_type": "code",
   "execution_count": 55,
   "metadata": {},
   "outputs": [
    {
     "name": "stdout",
     "output_type": "stream",
     "text": [
      "Integer Conversion: 100\n",
      "Hex Conversion: 0x2c\n",
      "Octal Conversion: 0o54\n"
     ]
    }
   ],
   "source": [
    "# Type Conversion Continued...\n",
    "    # ord() : This function is used to convert a character to integer.\n",
    "\n",
    "    # hex() : This function is to convert integer to hexadecimal string.\n",
    "\n",
    "    # oct() : This function is to convert integer to octal string.\n",
    "\n",
    "bri = 'd'\n",
    "\n",
    "# Character to Integer Conversion\n",
    "b = ord(bri)\n",
    "print(\"Integer Conversion: \", end=\"\")\n",
    "print(b)\n",
    "\n",
    "# Integer to Hexadecimal String Conversion\n",
    "brian = hex(44)\n",
    "print(\"Hex Conversion: \", end=\"\")\n",
    "print(brian)\n",
    "\n",
    "# Integer to Octal String Conversion\n",
    "uzelac = oct(44)\n",
    "print(\"Octal Conversion: \", end=\"\")\n",
    "print(uzelac)"
   ]
  },
  {
   "cell_type": "code",
   "execution_count": 56,
   "metadata": {},
   "outputs": [
    {
     "name": "stdout",
     "output_type": "stream",
     "text": [
      "Tuple Conversion: ('c', 'o', 'o', 'l', ' ', 'c', 'a', 't')\n",
      "Set Conversion: {' ', 'a', 'o', 't', 'l', 'c'}\n",
      "List Conversion: ['c', 'o', 'o', 'l', ' ', 'c', 'a', 't']\n",
      "Dictionary Conversion: {'brent': 1, 'mom': 2, 'dad': 3}\n",
      "String Conversion: 1\n",
      "Complex Number Conversion: (1+2j)\n"
     ]
    }
   ],
   "source": [
    "# Type Conversion Continued...\n",
    "    # tuple() : This function is used to convert to a tuple.\n",
    "\n",
    "    # set() : This function returns the type after converting to set.\n",
    "\n",
    "    # list() : This function is used to convert any data type to a list type.\n",
    "    \n",
    "    # dict() : This function is used to convert a tuple of order (key,value) into a dictionary.\n",
    "\n",
    "    # str() : Used to convert integer into a string.\n",
    "\n",
    "    # complex(real,imag) : : This function converts real numbers to complex(real,imag) number.\n",
    "    \n",
    "    \n",
    "bri = \"cool cat\"\n",
    "\n",
    "# String to Tuple Conversion ... Tuples are important to understand\n",
    "brian = tuple(bri)\n",
    "print(\"Tuple Conversion: \", end=\"\")\n",
    "print(brian)\n",
    "\n",
    "# String to Set Conversion\n",
    "b = set(bri)\n",
    "print(\"Set Conversion: \", end=\"\")\n",
    "print(b)\n",
    "\n",
    "# String to List Conversion\n",
    "uzelac = list(bri)\n",
    "print(\"List Conversion: \", end=\"\")\n",
    "print(uzelac)\n",
    "\n",
    "# Tuple to Dictionary Conversion\n",
    "brent = 1\n",
    "brian = 2\n",
    "\n",
    "tup = (('brent', 1), ('mom', 2), ('dad', 3))\n",
    "wade = dict(tup)\n",
    "print(\"Dictionary Conversion: \", end=\"\")\n",
    "print(wade)\n",
    "\n",
    "# Integer to String Conversion\n",
    "wades = str(brent)\n",
    "print(\"String Conversion: \", end=\"\")\n",
    "print(wades)\n",
    "\n",
    "# Real to Complex Number Conversion\n",
    "w = complex(1,2)\n",
    "print(\"Complex Number Conversion: \", end=\"\")\n",
    "print(w) # Complex Number Conversion not necessarily common usage but good to know"
   ]
  },
  {
   "cell_type": "code",
   "execution_count": null,
   "metadata": {},
   "outputs": [],
   "source": []
  },
  {
   "cell_type": "code",
   "execution_count": 57,
   "metadata": {},
   "outputs": [
    {
     "name": "stdout",
     "output_type": "stream",
     "text": [
      "Aye Brian whats up\n"
     ]
    }
   ],
   "source": [
    "# __init__ ... VERY IMPORTANT\n",
    "    # similar to constructions in Java & C++\n",
    "    # init/assign values to data members of class when an object of class is created\n",
    "    # similar to methods, constructor also contains collection of statements, which act as instructions\n",
    "        # these are executed at time of Object creation ... ran as soon as object of class is instantiated\n",
    "        # method is useful for any value assignment you want to do with object\n",
    "\n",
    "class Homie:\n",
    "    def __init__(self, name):\n",
    "        self.name = name\n",
    "        \n",
    "    def wazzup(self):\n",
    "        print('Aye',self.name, 'whats up')\n",
    "        \n",
    "h = Homie('Brian')\n",
    "h.wazzup()"
   ]
  },
  {
   "cell_type": "code",
   "execution_count": 64,
   "metadata": {},
   "outputs": [
    {
     "name": "stdout",
     "output_type": "stream",
     "text": [
      "B init called\n",
      "A init called\n"
     ]
    }
   ],
   "source": [
    "# __init__ Continued... WITH INHERITANCE!\n",
    "    # Inheritance is how one class can derive or inherit the properties from another class\n",
    "    \n",
    "class A(object): \n",
    "    def __init__(self, something): \n",
    "        print(\"A init called\") \n",
    "        self.something = something\n",
    "          \n",
    "  \n",
    "class B(A): \n",
    "    def __init__(self, something): \n",
    "        print(\"B init called\") \n",
    "        self.something = something \n",
    "        # Calling init of parent class \n",
    "        A.__init__(self, something) \n",
    "          \n",
    "obj = B(\"Something\") "
   ]
  },
  {
   "cell_type": "code",
   "execution_count": null,
   "metadata": {},
   "outputs": [],
   "source": []
  }
 ],
 "metadata": {
  "kernelspec": {
   "display_name": "Python 3",
   "language": "python",
   "name": "python3"
  },
  "language_info": {
   "codemirror_mode": {
    "name": "ipython",
    "version": 3
   },
   "file_extension": ".py",
   "mimetype": "text/x-python",
   "name": "python",
   "nbconvert_exporter": "python",
   "pygments_lexer": "ipython3",
   "version": "3.7.2"
  }
 },
 "nbformat": 4,
 "nbformat_minor": 2
}
