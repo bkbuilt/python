{
 "cells": [
  {
   "cell_type": "code",
   "execution_count": 1,
   "metadata": {},
   "outputs": [],
   "source": [
    "import nltk"
   ]
  },
  {
   "cell_type": "code",
   "execution_count": null,
   "metadata": {},
   "outputs": [],
   "source": [
    "# Pre-Processing\n",
    "    # convert text to either upper or lowercase\n",
    "    # tokenization ... convert text to list of words we want \"aka tokens\"\n",
    "    # remove noise ... that's anything that is not a number or letter\n",
    "    # remove stop words ... they can cause little errors\n",
    "    # stemming ... break words down to their stem/root form\n",
    "    # lemmatization ... similar to stemming, lemmas are actual words \"turn is base of turning; better and good in same lemma\"\n",
    "    \n",
    "# Bag of Words\n",
    "    # transform pre-processeed text into vector/array of numbers\n",
    "    # represents occurrence of words within document\n",
    "        # consists of known words, measure of occurrence of those words\n",
    "    "
   ]
  }
 ],
 "metadata": {
  "kernelspec": {
   "display_name": "Python 3",
   "language": "python",
   "name": "python3"
  },
  "language_info": {
   "codemirror_mode": {
    "name": "ipython",
    "version": 3
   },
   "file_extension": ".py",
   "mimetype": "text/x-python",
   "name": "python",
   "nbconvert_exporter": "python",
   "pygments_lexer": "ipython3",
   "version": "3.7.2"
  }
 },
 "nbformat": 4,
 "nbformat_minor": 2
}
