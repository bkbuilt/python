{
 "cells": [
  {
   "cell_type": "code",
   "execution_count": 1,
   "metadata": {},
   "outputs": [],
   "source": [
    "import nltk"
   ]
  },
  {
   "cell_type": "code",
   "execution_count": 2,
   "metadata": {},
   "outputs": [],
   "source": [
    "# Pre-Processing\n",
    "    # convert text to either upper or lowercase\n",
    "    # tokenization ... convert text to list of words we want \"aka tokens\"\n",
    "    # remove noise ... that's anything that is not a number or letter\n",
    "    # remove stop words ... they can cause little errors\n",
    "    # stemming ... break words down to their stem/root form\n",
    "    # lemmatization ... similar to stemming, lemmas are actual words \"turn is base of turning; better and good in same lemma\"\n",
    "    \n",
    "# Bag of Words\n",
    "    # transform pre-processeed text into vector/array of numbers\n",
    "    # represents occurrence of words within document\n",
    "        # consists of known words, measure of occurrence of those words\n",
    "    # bag of words is meant to show that documents are similar if their contents are similar\n",
    "    \n",
    "# Term Frequency - Inverse Document Frequency \"TF-IDF\""
   ]
  },
  {
   "cell_type": "code",
   "execution_count": 3,
   "metadata": {},
   "outputs": [
    {
     "ename": "SyntaxError",
     "evalue": "invalid syntax (<ipython-input-3-7f78f9bddeae>, line 1)",
     "output_type": "error",
     "traceback": [
      "\u001b[0;36m  File \u001b[0;32m\"<ipython-input-3-7f78f9bddeae>\"\u001b[0;36m, line \u001b[0;32m1\u001b[0m\n\u001b[0;31m    https://medium.com/analytics-vidhya/building-a-simple-chatbot-in-python-using-nltk-7c8c8215ac6e\u001b[0m\n\u001b[0m           ^\u001b[0m\n\u001b[0;31mSyntaxError\u001b[0m\u001b[0;31m:\u001b[0m invalid syntax\n"
     ]
    }
   ],
   "source": [
    "https://medium.com/analytics-vidhya/building-a-simple-chatbot-in-python-using-nltk-7c8c8215ac6e"
   ]
  },
  {
   "cell_type": "code",
   "execution_count": null,
   "metadata": {},
   "outputs": [],
   "source": []
  }
 ],
 "metadata": {
  "kernelspec": {
   "display_name": "Python 3",
   "language": "python",
   "name": "python3"
  },
  "language_info": {
   "codemirror_mode": {
    "name": "ipython",
    "version": 3
   },
   "file_extension": ".py",
   "mimetype": "text/x-python",
   "name": "python",
   "nbconvert_exporter": "python",
   "pygments_lexer": "ipython3",
   "version": "3.7.2"
  }
 },
 "nbformat": 4,
 "nbformat_minor": 2
}
